{
 "cells": [
  {
   "cell_type": "code",
   "execution_count": 1,
   "metadata": {
    "collapsed": false
   },
   "outputs": [
    {
     "ename": "ImportError",
     "evalue": "No module named qgis.core",
     "output_type": "error",
     "traceback": [
      "\u001b[0;31m\u001b[0m",
      "\u001b[0;31mImportError\u001b[0mTraceback (most recent call last)",
      "\u001b[0;32m<ipython-input-1-bccca99b0d64>\u001b[0m in \u001b[0;36m<module>\u001b[0;34m()\u001b[0m\n\u001b[1;32m      1\u001b[0m \u001b[0;32mimport\u001b[0m \u001b[0mos\u001b[0m\u001b[0;34m\u001b[0m\u001b[0m\n\u001b[0;32m----> 2\u001b[0;31m \u001b[0;32mfrom\u001b[0m \u001b[0mqgis\u001b[0m\u001b[0;34m.\u001b[0m\u001b[0mcore\u001b[0m \u001b[0;32mimport\u001b[0m \u001b[0;34m*\u001b[0m\u001b[0;34m\u001b[0m\u001b[0m\n\u001b[0m\u001b[1;32m      3\u001b[0m \u001b[0;32mfrom\u001b[0m \u001b[0mqgis\u001b[0m\u001b[0;34m.\u001b[0m\u001b[0mutils\u001b[0m \u001b[0;32mimport\u001b[0m \u001b[0;34m*\u001b[0m\u001b[0;34m\u001b[0m\u001b[0m\n\u001b[1;32m      4\u001b[0m \u001b[0;32mfrom\u001b[0m \u001b[0mPyQt4\u001b[0m\u001b[0;34m.\u001b[0m\u001b[0mQtCore\u001b[0m \u001b[0;32mimport\u001b[0m \u001b[0mQFileInfo\u001b[0m\u001b[0;34m,\u001b[0m \u001b[0mQSettings\u001b[0m\u001b[0;34m\u001b[0m\u001b[0m\n",
      "\u001b[0;31mImportError\u001b[0m: No module named qgis.core"
     ]
    }
   ],
   "source": [
    "import os\n",
    "from qgis.core import *\n",
    "from qgis.utils import *\n",
    "from PyQt4.QtCore import QFileInfo, QSettings"
   ]
  },
  {
   "cell_type": "code",
   "execution_count": null,
   "metadata": {
    "collapsed": true
   },
   "outputs": [],
   "source": [
    "# supply path to qgis install location\n",
    "# this will only work if we're on the right environment\n",
    "QgsApplication.setPrefixPath(\"/usr/bin/qgis\", True)\n",
    "\n",
    "# create a reference to the QgsApplication, setting the\n",
    "# second argument to False disables the GUI\n",
    "qgs = QgsApplication([], False)\n",
    "\n",
    "# load providers\n",
    "qgs.initQgis()"
   ]
  },
  {
   "cell_type": "code",
   "execution_count": 4,
   "metadata": {
    "collapsed": false
   },
   "outputs": [
    {
     "name": "stdout",
     "output_type": "stream",
     "text": [
      "Kolovai-Trees-20180108.cpg  Kolovai-Trees-20180108.qpj\r\n",
      "Kolovai-Trees-20180108.dbf  Kolovai-Trees-20180108.shp\r\n",
      "Kolovai-Trees-20180108.prj  Kolovai-Trees-20180108.shx\r\n"
     ]
    }
   ],
   "source": [
    "! ls ../TrainingData-Trees/"
   ]
  },
  {
   "cell_type": "code",
   "execution_count": null,
   "metadata": {
    "collapsed": true
   },
   "outputs": [],
   "source": [
    "def clipTrees(rasterPath, vectorPath, searchString, treeType):\n",
    "    \n",
    "    # save the aerial image as a raster layer\n",
    "    rlayer = QgsRasterLayer(rasterPath, 'title: ' + rasterPath)\n",
    "    if not rlayer.isValid():\n",
    "        print \"rlayer failed to load!\"\n",
    "    else:\n",
    "        # store the coordinate reference system\n",
    "        rcrs = rlayer.crs()\n",
    "\n",
    "    # save the shapefile as a vector layer\n",
    "    vlayer = QgsVectorLayer(vectorPath, 'title: ' + vectorPath, 'ogr')\n",
    "    if not vlayer.isValid():\n",
    "        print \"vlayer failed to load!\"\n",
    "    else:\n",
    "        # store the coordinate reference system\n",
    "        vcrs = vlayer.crs()\n",
    "    \n",
    "    # create an object that converts one coordinate reference system (CRS) to another\n",
    "    # from the shapefile's CRS to the image's CRS\n",
    "    xform = QgsCoordinateTransform(vlayer.crs(), rlayer.crs())\n",
    "\n",
    "    # approximately 8x8 snippet centered on the tree\n",
    "    xOffset = 4.2854\n",
    "    yOffset = 4.3105\n",
    "    \n",
    "    # create a SQL based feature request object to give us features containing searchString\n",
    "    exp = QgsExpression('other_tags ILIKE \\'%' + searchString + '%\\'')\n",
    "    request = QgsFeatureRequest(exp)\n",
    "\n",
    "    i = 0\n",
    "    # iterate through all features matching our request\n",
    "    for feat in vlayer.getFeatures(request):\n",
    "        # get geometry of each feature\n",
    "        geom = feat.geometry()\n",
    "        \n",
    "        # if it's a point, use the coordinates to make an 8x8 box centered on the point\n",
    "        if geom.type() == QGis.Point:\n",
    "            bbox = xform.transform(feat.geometry().boundingBox())\n",
    "            # make sure the existing bounding box is not actually a box, but a point\n",
    "            if (bbox.xMinimum() == bbox.xMaximum()) and (bbox.yMinimum() == bbox.yMaximum()):\n",
    "                x = bbox.xMinimum()\n",
    "                y = bbox.yMinimum()\n",
    "                ulx = x - xOffset\n",
    "                lry = y - yOffset\n",
    "                lrx = x + xOffset\n",
    "                uly = y + yOffset\n",
    "                \n",
    "                # shell command that performs the actual clip\n",
    "                ! gdal_translate -of JPEG -projwin {ulx} {uly} {lrx} {lry}, tonga.tif tree{str(i)}.jpg\n",
    "                \n",
    "                # tidy the output into folders\n",
    "                ! mv tree{str(i)}.jpg automated-clips/{treeType}/\n",
    "                \n",
    "                # keep the georeferenced data for future use (outside the scope of the project at this time)\n",
    "                ! mv tree{str(i)}.jpg.aux.xml automated-clips/{treeType}/aux-xml/\n",
    "                \n",
    "                i += 1\n",
    "                if (treeType == 'cocos') and (i == 3000):\n",
    "                    # clipping all 10315 coconut trees is gonna take way too long\n",
    "                    break\n",
    "            else:\n",
    "                # this is never expected to occur but just in case\n",
    "                print \"might not be a point\"\n",
    "\n",
    "    print \"total trees clipped: \", i"
   ]
  },
  {
   "cell_type": "code",
   "execution_count": null,
   "metadata": {
    "collapsed": true
   },
   "outputs": [],
   "source": [
    "# Cut out all papaya trees (89)\n",
    "# clipTrees('tonga.tif', '../TrainingData-Trees/Kolovai-Trees-20180108.shp', 'apaya', 'papaya')"
   ]
  },
  {
   "cell_type": "code",
   "execution_count": null,
   "metadata": {
    "collapsed": true
   },
   "outputs": [],
   "source": [
    "# Cut out all mango trees (261)\n",
    "# clipTrees('tonga.tif', '../TrainingData-Trees/Kolovai-Trees-20180108.shp', 'ang', 'mango')"
   ]
  },
  {
   "cell_type": "code",
   "execution_count": null,
   "metadata": {
    "collapsed": true
   },
   "outputs": [],
   "source": [
    "# # WARNING THIS IS GONNA TAKE FOREVER\n",
    "# Cut out all banana trees (~2700)\n",
    "# clipTrees('tonga.tif', '../TrainingData-Trees/Kolovai-Trees-20180108.shp', 'usa', 'musa')"
   ]
  },
  {
   "cell_type": "code",
   "execution_count": null,
   "metadata": {
    "collapsed": true
   },
   "outputs": [],
   "source": [
    "# # WARNING THIS IS GONNA TAKE FOREVER\n",
    "# Cut out all coconut trees (~10300)\n",
    "# clipTrees('tonga.tif', '../TrainingData-Trees/Kolovai-Trees-20180108.shp', 'coc', 'cocos')"
   ]
  },
  {
   "cell_type": "code",
   "execution_count": null,
   "metadata": {
    "collapsed": true
   },
   "outputs": [],
   "source": [
    "# When complete, call exitQgis() to remove the provider and layer registries from memory\n",
    "qgs.exitQgis()"
   ]
  }
 ],
 "metadata": {
  "kernelspec": {
   "display_name": "Python 2",
   "language": "python",
   "name": "python2"
  },
  "language_info": {
   "codemirror_mode": {
    "name": "ipython",
    "version": 2
   },
   "file_extension": ".py",
   "mimetype": "text/x-python",
   "name": "python",
   "nbconvert_exporter": "python",
   "pygments_lexer": "ipython2",
   "version": "2.7.6"
  }
 },
 "nbformat": 4,
 "nbformat_minor": 0
}
